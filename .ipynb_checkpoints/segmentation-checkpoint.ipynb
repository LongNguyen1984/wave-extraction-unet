{
 "cells": [
  {
   "cell_type": "markdown",
   "metadata": {},
   "source": [
    "# Image Augmentation"
   ]
  },
  {
   "cell_type": "code",
   "execution_count": 4,
   "metadata": {},
   "outputs": [],
   "source": [
    "import sys\n",
    "\n",
    "sys.path.append('/Users/dnguyen4/anaconda3/envs/venv/lib/python3.7/site-packages')\n",
    "\n",
    "# Image augmentation\n",
    "import cv2\n",
    "import random\n",
    "import os"
   ]
  },
  {
   "cell_type": "code",
   "execution_count": 5,
   "metadata": {},
   "outputs": [],
   "source": [
    "# Visualization\n",
    "from matplotlib import pyplot as plt"
   ]
  },
  {
   "cell_type": "code",
   "execution_count": 6,
   "metadata": {},
   "outputs": [
    {
     "name": "stderr",
     "output_type": "stream",
     "text": [
      "Using TensorFlow backend.\n"
     ]
    }
   ],
   "source": [
    "# Training\n",
    "from keras.callbacks import ModelCheckpoint\n",
    "from keras.callbacks import CSVLogger\n",
    "from keras.callbacks import EarlyStopping\n",
    "from keras.optimizers import Adam\n",
    "\n",
    "from sklearn.utils import class_weight\n",
    "\n",
    "import numpy as np\n",
    "import model\n",
    "import time"
   ]
  },
  {
   "cell_type": "code",
   "execution_count": 7,
   "metadata": {},
   "outputs": [],
   "source": [
    "SIZE = 512\n",
    "channel = 1"
   ]
  },
  {
   "cell_type": "code",
   "execution_count": 8,
   "metadata": {},
   "outputs": [],
   "source": [
    "# Image augmentation\n",
    "def data_gen(img_folder, mask_folder, batch_size):\n",
    "    c = 0\n",
    "    n = os.listdir(img_folder) #List of training images\n",
    "    random.shuffle(n)\n",
    "\n",
    "    while (True):\n",
    "        img = np.zeros((batch_size, SIZE, SIZE, channel)).astype('float')\n",
    "        mask = np.zeros((batch_size, SIZE, SIZE, 1)).astype('float')\n",
    "\n",
    "        for i in range(c, c+batch_size): #initially from 0 to 16, c = 0. \n",
    "\n",
    "            # If training on RGB\n",
    "#             train_img = cv2.imread(img_folder+'/'+n[i])/255.       \n",
    "#             train_img = cv2.resize(train_img, (SIZE, SIZE))# Read an image from folder and resize\n",
    "            \n",
    "            # If training on grayscale images \n",
    "            train_img = cv2.imread(img_folder+'/'+n[i], cv2.IMREAD_GRAYSCALE)/255.\n",
    "            train_img = cv2.resize(train_img, (SIZE, SIZE))# Read an image from folder and resize\n",
    "            train_img = train_img.reshape(SIZE, SIZE, channel) # Add extra dimension for parity with train_img size [512 * 512 * 3]\n",
    "    \n",
    "            img[i-c] = train_img #add to array - img[0], img[1], and so on.\n",
    "\n",
    "            train_mask = cv2.imread(mask_folder+'/'+n[i], cv2.IMREAD_GRAYSCALE)/255.\n",
    "            train_mask = cv2.resize(train_mask, (SIZE, SIZE))\n",
    "            train_mask = train_mask.reshape(SIZE, SIZE, 1) # Add extra dimension for parity with train_img size [512 * 512 * 3]\n",
    "\n",
    "            mask[i-c] = train_mask\n",
    "\n",
    "        c+=batch_size\n",
    "        if(c+batch_size>=len(os.listdir(img_folder))):\n",
    "            c=0\n",
    "            random.shuffle(n)\n",
    "          \n",
    "        yield img, mask\n",
    "\n",
    "\n",
    "train_frame_path = 'train_frames/train'\n",
    "train_mask_path = 'train_masks/train'\n",
    "\n",
    "val_frame_path = 'val_frames/val'\n",
    "val_mask_path = 'val_masks/val'\n",
    "\n",
    "# Create generator objects\n",
    "train_gen = data_gen(train_frame_path,train_mask_path, batch_size = 4)\n",
    "val_gen = data_gen(val_frame_path,val_mask_path, batch_size = 4)\n",
    "\n"
   ]
  },
  {
   "cell_type": "code",
   "execution_count": 9,
   "metadata": {},
   "outputs": [
    {
     "data": {
      "text/plain": [
       "<matplotlib.image.AxesImage at 0x1490d9b38>"
      ]
     },
     "execution_count": 9,
     "metadata": {},
     "output_type": "execute_result"
    },
    {
     "data": {
      "image/png": "[encoded data removed]",
      "text/plain": [
       "<Figure size 432x288 with 2 Axes>"
      ]
     },
     "metadata": {
      "needs_background": "light"
     },
     "output_type": "display_data"
    }
   ],
   "source": [
    "# Check to see if mask is saved correctly for training set\n",
    "image_batch, mask_batch = next(train_gen)\n",
    "\n",
    "r = random.randint(0, len(image_batch)-1)\n",
    "\n",
    "fig = plt.figure()\n",
    "fig.subplots_adjust(hspace=0.4, wspace=0.4)\n",
    "ax = fig.add_subplot(1, 2, 1)\n",
    "ax.imshow(np.reshape(image_batch[r], (SIZE, SIZE)))\n",
    "ax = fig.add_subplot(1, 2, 2)\n",
    "ax.imshow(np.reshape(mask_batch[r], (SIZE, SIZE)), cmap=\"gray\")"
   ]
  },
  {
   "cell_type": "markdown",
   "metadata": {},
   "source": [
    "# Training"
   ]
  },
  {
   "cell_type": "code",
   "execution_count": 10,
   "metadata": {},
   "outputs": [
    {
     "name": "stderr",
     "output_type": "stream",
     "text": [
      "WARNING: Logging before flag parsing goes to stderr.\n",
      "W0801 22:21:07.152581 4623562176 deprecation_wrapper.py:119] From /Users/dnguyen4/anaconda3/envs/venv/lib/python3.7/site-packages/keras/backend/tensorflow_backend.py:74: The name tf.get_default_graph is deprecated. Please use tf.compat.v1.get_default_graph instead.\n",
      "\n",
      "W0801 22:21:07.190024 4623562176 deprecation_wrapper.py:119] From /Users/dnguyen4/anaconda3/envs/venv/lib/python3.7/site-packages/keras/backend/tensorflow_backend.py:517: The name tf.placeholder is deprecated. Please use tf.compat.v1.placeholder instead.\n",
      "\n",
      "W0801 22:21:07.204518 4623562176 deprecation_wrapper.py:119] From /Users/dnguyen4/anaconda3/envs/venv/lib/python3.7/site-packages/keras/backend/tensorflow_backend.py:4185: The name tf.truncated_normal is deprecated. Please use tf.random.truncated_normal instead.\n",
      "\n",
      "W0801 22:21:07.243500 4623562176 deprecation_wrapper.py:119] From /Users/dnguyen4/anaconda3/envs/venv/lib/python3.7/site-packages/keras/backend/tensorflow_backend.py:3976: The name tf.nn.max_pool is deprecated. Please use tf.nn.max_pool2d instead.\n",
      "\n",
      "W0801 22:21:07.323564 4623562176 deprecation_wrapper.py:119] From /Users/dnguyen4/anaconda3/envs/venv/lib/python3.7/site-packages/keras/backend/tensorflow_backend.py:133: The name tf.placeholder_with_default is deprecated. Please use tf.compat.v1.placeholder_with_default instead.\n",
      "\n",
      "W0801 22:21:07.333396 4623562176 deprecation.py:506] From /Users/dnguyen4/anaconda3/envs/venv/lib/python3.7/site-packages/keras/backend/tensorflow_backend.py:3445: calling dropout (from tensorflow.python.ops.nn_ops) with keep_prob is deprecated and will be removed in a future version.\n",
      "Instructions for updating:\n",
      "Please use `rate` instead of `keep_prob`. Rate should be set to `rate = 1 - keep_prob`.\n",
      "W0801 22:21:07.411940 4623562176 deprecation_wrapper.py:119] From /Users/dnguyen4/anaconda3/envs/venv/lib/python3.7/site-packages/keras/backend/tensorflow_backend.py:2018: The name tf.image.resize_nearest_neighbor is deprecated. Please use tf.compat.v1.image.resize_nearest_neighbor instead.\n",
      "\n",
      "W0801 22:21:07.573912 4623562176 deprecation_wrapper.py:119] From /Users/dnguyen4/anaconda3/envs/venv/lib/python3.7/site-packages/keras/backend/tensorflow_backend.py:4138: The name tf.random_uniform is deprecated. Please use tf.random.uniform instead.\n",
      "\n",
      "W0801 22:21:07.603102 4623562176 deprecation_wrapper.py:119] From /Users/dnguyen4/anaconda3/envs/venv/lib/python3.7/site-packages/keras/optimizers.py:790: The name tf.train.Optimizer is deprecated. Please use tf.compat.v1.train.Optimizer instead.\n",
      "\n",
      "W0801 22:21:07.612617 4623562176 deprecation.py:323] From /Users/dnguyen4/anaconda3/envs/venv/lib/python3.7/site-packages/tensorflow/python/ops/nn_impl.py:180: add_dispatch_support.<locals>.wrapper (from tensorflow.python.ops.array_ops) is deprecated and will be removed in a future version.\n",
      "Instructions for updating:\n",
      "Use tf.where in 2.0, which has the same broadcast rule as np.where\n"
     ]
    },
    {
     "name": "stdout",
     "output_type": "stream",
     "text": [
      "__________________________________________________________________________________________________\n",
      "Layer (type)                    Output Shape         Param #     Connected to                     \n",
      "==================================================================================================\n",
      "input_1 (InputLayer)            (None, 512, 512, 1)  0                                            \n",
      "__________________________________________________________________________________________________\n",
      "conv2d_1 (Conv2D)               (None, 512, 512, 64) 640         input_1[0][0]                    \n",
      "__________________________________________________________________________________________________\n",
      "conv2d_2 (Conv2D)               (None, 512, 512, 64) 36928       conv2d_1[0][0]                   \n",
      "__________________________________________________________________________________________________\n",
      "max_pooling2d_1 (MaxPooling2D)  (None, 256, 256, 64) 0           conv2d_2[0][0]                   \n",
      "__________________________________________________________________________________________________\n",
      "conv2d_3 (Conv2D)               (None, 256, 256, 128 73856       max_pooling2d_1[0][0]            \n",
      "__________________________________________________________________________________________________\n",
      "conv2d_4 (Conv2D)               (None, 256, 256, 128 147584      conv2d_3[0][0]                   \n",
      "__________________________________________________________________________________________________\n",
      "max_pooling2d_2 (MaxPooling2D)  (None, 128, 128, 128 0           conv2d_4[0][0]                   \n",
      "__________________________________________________________________________________________________\n",
      "conv2d_5 (Conv2D)               (None, 128, 128, 256 295168      max_pooling2d_2[0][0]            \n",
      "__________________________________________________________________________________________________\n",
      "conv2d_6 (Conv2D)               (None, 128, 128, 256 590080      conv2d_5[0][0]                   \n",
      "__________________________________________________________________________________________________\n",
      "max_pooling2d_3 (MaxPooling2D)  (None, 64, 64, 256)  0           conv2d_6[0][0]                   \n",
      "__________________________________________________________________________________________________\n",
      "conv2d_7 (Conv2D)               (None, 64, 64, 512)  1180160     max_pooling2d_3[0][0]            \n",
      "__________________________________________________________________________________________________\n",
      "conv2d_8 (Conv2D)               (None, 64, 64, 512)  2359808     conv2d_7[0][0]                   \n",
      "__________________________________________________________________________________________________\n",
      "dropout_1 (Dropout)             (None, 64, 64, 512)  0           conv2d_8[0][0]                   \n",
      "__________________________________________________________________________________________________\n",
      "max_pooling2d_4 (MaxPooling2D)  (None, 32, 32, 512)  0           dropout_1[0][0]                  \n",
      "__________________________________________________________________________________________________\n",
      "conv2d_9 (Conv2D)               (None, 32, 32, 1024) 4719616     max_pooling2d_4[0][0]            \n",
      "__________________________________________________________________________________________________\n",
      "conv2d_10 (Conv2D)              (None, 32, 32, 1024) 9438208     conv2d_9[0][0]                   \n",
      "__________________________________________________________________________________________________\n",
      "dropout_2 (Dropout)             (None, 32, 32, 1024) 0           conv2d_10[0][0]                  \n",
      "__________________________________________________________________________________________________\n",
      "up_sampling2d_1 (UpSampling2D)  (None, 64, 64, 1024) 0           dropout_2[0][0]                  \n",
      "__________________________________________________________________________________________________\n",
      "conv2d_11 (Conv2D)              (None, 64, 64, 512)  2097664     up_sampling2d_1[0][0]            \n",
      "__________________________________________________________________________________________________\n",
      "concatenate_1 (Concatenate)     (None, 64, 64, 1024) 0           dropout_1[0][0]                  \n",
      "                                                                 conv2d_11[0][0]                  \n",
      "__________________________________________________________________________________________________\n",
      "conv2d_12 (Conv2D)              (None, 64, 64, 512)  4719104     concatenate_1[0][0]              \n",
      "__________________________________________________________________________________________________\n",
      "conv2d_13 (Conv2D)              (None, 64, 64, 512)  2359808     conv2d_12[0][0]                  \n",
      "__________________________________________________________________________________________________\n",
      "up_sampling2d_2 (UpSampling2D)  (None, 128, 128, 512 0           conv2d_13[0][0]                  \n",
      "__________________________________________________________________________________________________\n",
      "conv2d_14 (Conv2D)              (None, 128, 128, 256 524544      up_sampling2d_2[0][0]            \n",
      "__________________________________________________________________________________________________\n",
      "concatenate_2 (Concatenate)     (None, 128, 128, 512 0           conv2d_6[0][0]                   \n",
      "                                                                 conv2d_14[0][0]                  \n",
      "__________________________________________________________________________________________________\n",
      "conv2d_15 (Conv2D)              (None, 128, 128, 256 1179904     concatenate_2[0][0]              \n",
      "__________________________________________________________________________________________________\n",
      "conv2d_16 (Conv2D)              (None, 128, 128, 256 590080      conv2d_15[0][0]                  \n",
      "__________________________________________________________________________________________________\n",
      "up_sampling2d_3 (UpSampling2D)  (None, 256, 256, 256 0           conv2d_16[0][0]                  \n",
      "__________________________________________________________________________________________________\n",
      "conv2d_17 (Conv2D)              (None, 256, 256, 128 131200      up_sampling2d_3[0][0]            \n",
      "__________________________________________________________________________________________________\n",
      "concatenate_3 (Concatenate)     (None, 256, 256, 256 0           conv2d_4[0][0]                   \n",
      "                                                                 conv2d_17[0][0]                  \n",
      "__________________________________________________________________________________________________\n",
      "conv2d_18 (Conv2D)              (None, 256, 256, 128 295040      concatenate_3[0][0]              \n",
      "__________________________________________________________________________________________________\n",
      "conv2d_19 (Conv2D)              (None, 256, 256, 128 147584      conv2d_18[0][0]                  \n",
      "__________________________________________________________________________________________________\n",
      "up_sampling2d_4 (UpSampling2D)  (None, 512, 512, 128 0           conv2d_19[0][0]                  \n",
      "__________________________________________________________________________________________________\n",
      "conv2d_20 (Conv2D)              (None, 512, 512, 64) 32832       up_sampling2d_4[0][0]            \n",
      "__________________________________________________________________________________________________\n",
      "concatenate_4 (Concatenate)     (None, 512, 512, 128 0           conv2d_2[0][0]                   \n",
      "                                                                 conv2d_20[0][0]                  \n",
      "__________________________________________________________________________________________________\n",
      "conv2d_21 (Conv2D)              (None, 512, 512, 64) 73792       concatenate_4[0][0]              \n",
      "__________________________________________________________________________________________________\n",
      "conv2d_22 (Conv2D)              (None, 512, 512, 64) 36928       conv2d_21[0][0]                  \n",
      "__________________________________________________________________________________________________\n",
      "conv2d_23 (Conv2D)              (None, 512, 512, 2)  1154        conv2d_22[0][0]                  \n",
      "__________________________________________________________________________________________________\n",
      "conv2d_24 (Conv2D)              (None, 512, 512, 1)  3           conv2d_23[0][0]                  \n",
      "==================================================================================================\n",
      "Total params: 31,031,685\n",
      "Trainable params: 31,031,685\n",
      "Non-trainable params: 0\n",
      "__________________________________________________________________________________________________\n"
     ]
    }
   ],
   "source": [
    "m = model.unet(input_size= (SIZE, SIZE, channel))"
   ]
  },
  {
   "cell_type": "code",
   "execution_count": 11,
   "metadata": {},
   "outputs": [],
   "source": [
    "import loss"
   ]
  },
  {
   "cell_type": "code",
   "execution_count": 12,
   "metadata": {},
   "outputs": [],
   "source": [
    "batch_size = 5\n",
    "NO_OF_TRAINING_IMAGES = len(os.listdir('train_frames/train/'))\n",
    "NO_OF_VAL_IMAGES = len(os.listdir('val_frames/val/'))\n",
    "\n",
    "NO_OF_EPOCHS = 50\n",
    "\n",
    "BATCH_SIZE = batch_size\n",
    "\n",
    "weights_path = 'weights/weights_00.h5'\n",
    "\n",
    "opt = Adam(lr=1E-5, beta_1=0.9, beta_2=0.999, epsilon=1e-08)\n",
    "\n",
    "m.compile(loss=loss.dice_coef_loss,\n",
    "          optimizer=opt,\n",
    "          metrics=['acc', 'mae'])\n",
    "\n",
    "checkpoint = ModelCheckpoint(filepath=weights_path, monitor='val_loss', \n",
    "                             verbose=1, save_best_only=True, save_weights_only=True)\n",
    "\n",
    "csv_logger = CSVLogger('./log.out', append=True, separator=';')\n",
    "\n",
    "earlystopping = EarlyStopping(monitor = 'val_loss', verbose = 1,\n",
    "                              min_delta = 1e-4, patience = 2, mode = 'auto')\n",
    "\n",
    "callbacks_list = [checkpoint, csv_logger, earlystopping]\n",
    "\n",
    "# class_weights = {0: 1.,\n",
    "#                  1: 197.}"
   ]
  },
  {
   "cell_type": "code",
   "execution_count": 14,
   "metadata": {},
   "outputs": [
    {
     "name": "stdout",
     "output_type": "stream",
     "text": [
      "Epoch 1/50\n",
      "10/10 [==============================] - 297s 30s/step - loss: 0.9872 - acc: 0.1468 - mean_absolute_error: 0.5961 - val_loss: 0.9856 - val_acc: 0.4517 - val_mean_absolute_error: 0.5942\n",
      "\n",
      "Epoch 00001: val_loss improved from inf to 0.98556, saving model to weights/weights_00.h5\n",
      "Epoch 2/50\n",
      "10/10 [==============================] - 284s 28s/step - loss: 0.9847 - acc: 0.6433 - mean_absolute_error: 0.5610 - val_loss: 0.9839 - val_acc: 0.5872 - val_mean_absolute_error: 0.6210\n",
      "\n",
      "Epoch 00002: val_loss improved from 0.98556 to 0.98395, saving model to weights/weights_00.h5\n",
      "Epoch 3/50\n",
      "10/10 [==============================] - 294s 29s/step - loss: 0.9835 - acc: 0.8357 - mean_absolute_error: 0.5414 - val_loss: 0.9848 - val_acc: 0.6602 - val_mean_absolute_error: 0.6171\n",
      "\n",
      "Epoch 00003: val_loss did not improve from 0.98395\n",
      "Epoch 4/50\n",
      "10/10 [==============================] - 290s 29s/step - loss: 0.9832 - acc: 0.8796 - mean_absolute_error: 0.5356 - val_loss: 0.9826 - val_acc: 0.6454 - val_mean_absolute_error: 0.6273\n",
      "\n",
      "Epoch 00004: val_loss improved from 0.98395 to 0.98264, saving model to weights/weights_00.h5\n",
      "Epoch 5/50\n",
      "10/10 [==============================] - 287s 29s/step - loss: 0.9826 - acc: 0.9036 - mean_absolute_error: 0.5292 - val_loss: 0.9842 - val_acc: 0.7484 - val_mean_absolute_error: 0.5886\n",
      "\n",
      "Epoch 00005: val_loss did not improve from 0.98264\n",
      "Epoch 6/50\n",
      "10/10 [==============================] - 286s 29s/step - loss: 0.9825 - acc: 0.9150 - mean_absolute_error: 0.5254 - val_loss: 0.9828 - val_acc: 0.6968 - val_mean_absolute_error: 0.6134\n",
      "\n",
      "Epoch 00006: val_loss did not improve from 0.98264\n",
      "Epoch 00006: early stopping\n"
     ]
    }
   ],
   "source": [
    "start_time = time.time()\n",
    "results = m.fit_generator(train_gen, epochs=NO_OF_EPOCHS, \n",
    "                          steps_per_epoch = (NO_OF_TRAINING_IMAGES//BATCH_SIZE),\n",
    "                          validation_data=val_gen, \n",
    "                          validation_steps=(NO_OF_VAL_IMAGES//BATCH_SIZE), \n",
    "                          callbacks=callbacks_list)\n",
    "time_passed = time.time() - start_time\n",
    "# print('Ellapsed time: {}'.format(hms_string(time_passed))\n",
    "m.save('Model_00.h5')\n",
    "# print(str(time_passed))"
   ]
  },
  {
   "cell_type": "code",
   "execution_count": 15,
   "metadata": {},
   "outputs": [
    {
     "name": "stdout",
     "output_type": "stream",
     "text": [
      "It took 0.4831904341114892 hours to execute this\n"
     ]
    }
   ],
   "source": [
    "print (\"It took {} hours to execute this\".format((time_passed) / 3600.))"
   ]
  },
  {
   "cell_type": "markdown",
   "metadata": {},
   "source": [
    "# Evaluate model on test dataset"
   ]
  },
  {
   "cell_type": "code",
   "execution_count": 16,
   "metadata": {},
   "outputs": [],
   "source": [
    "# Create testing dataset\n",
    "test_frame_path = 'test_frames'\n",
    "test_mask_path  = 'test_masks'\n",
    "\n",
    "test_gen = data_gen(test_frame_path, test_mask_path, batch_size = batch_size)"
   ]
  },
  {
   "cell_type": "code",
   "execution_count": 17,
   "metadata": {},
   "outputs": [],
   "source": [
    "# Loading test data\n",
    "image_batch, mask_batch = next(test_gen)"
   ]
  },
  {
   "cell_type": "code",
   "execution_count": 18,
   "metadata": {},
   "outputs": [
    {
     "data": {
      "text/plain": [
       "['loss', 'acc', 'mean_absolute_error']"
      ]
     },
     "execution_count": 18,
     "metadata": {},
     "output_type": "execute_result"
    }
   ],
   "source": [
    "m.metrics_names"
   ]
  },
  {
   "cell_type": "code",
   "execution_count": 19,
   "metadata": {},
   "outputs": [
    {
     "name": "stdout",
     "output_type": "stream",
     "text": [
      "\r",
      "5/5 [==============================] - 8s 2s/step\n"
     ]
    },
    {
     "data": {
      "text/plain": [
       "[0.9836971163749695, 0.735028088092804, 0.5987730026245117]"
      ]
     },
     "execution_count": 19,
     "metadata": {},
     "output_type": "execute_result"
    }
   ],
   "source": [
    "m.evaluate(x = image_batch,\n",
    "               y = mask_batch,\n",
    "               batch_size = batch_size)"
   ]
  },
  {
   "cell_type": "markdown",
   "metadata": {},
   "source": [
    "# Making predictions with model"
   ]
  },
  {
   "cell_type": "code",
   "execution_count": 20,
   "metadata": {},
   "outputs": [],
   "source": [
    "def predict_one_mask():\n",
    "    image_batch, mask_batch = next(test_gen)\n",
    "#     print(type(image_batch))\n",
    "#     print(type(mask_batch))\n",
    "    predicted_mask_batch = m.predict(image_batch)\n",
    "    image = image_batch[0]\n",
    "#     print(type(predicted_mask_batch))\n",
    "#     print(type(image))\n",
    "    print(image.shape)\n",
    "    predicted_mask = predicted_mask_batch[0].reshape(SIZE, SIZE)\n",
    "    plt.imshow(image.squeeze())\n",
    "    plt.imshow(predicted_mask, alpha=0.7)"
   ]
  },
  {
   "cell_type": "code",
   "execution_count": 21,
   "metadata": {},
   "outputs": [
    {
     "name": "stdout",
     "output_type": "stream",
     "text": [
      "(512, 512, 1)\n"
     ]
    },
    {
     "data": {
      "image/png": "[encoded data removed]",
      "text/plain": [
       "<Figure size 432x288 with 1 Axes>"
      ]
     },
     "metadata": {
      "needs_background": "light"
     },
     "output_type": "display_data"
    }
   ],
   "source": [
    "predict_one_mask()"
   ]
  },
  {
   "cell_type": "code",
   "execution_count": 22,
   "metadata": {},
   "outputs": [],
   "source": [
    "image_batch, mask_batch = next(test_gen)\n",
    "pred = m.predict(image_batch)\n",
    "pred = pred > 0.5"
   ]
  },
  {
   "cell_type": "code",
   "execution_count": 23,
   "metadata": {},
   "outputs": [
    {
     "data": {
      "text/plain": [
       "<matplotlib.image.AxesImage at 0x14823bef0>"
      ]
     },
     "execution_count": 23,
     "metadata": {},
     "output_type": "execute_result"
    },
    {
     "data": {
      "image/png": "[encoded data removed]",
      "text/plain": [
       "<Figure size 432x288 with 3 Axes>"
      ]
     },
     "metadata": {
      "needs_background": "light"
     },
     "output_type": "display_data"
    }
   ],
   "source": [
    "fig = plt.figure()\n",
    "fig.subplots_adjust(hspace=0.4, wspace=0.4)\n",
    "\n",
    "ax = fig.add_subplot(1, 3, 1)\n",
    "ax.imshow(np.reshape(image_batch[0]*255, (SIZE, SIZE)), cmap='gray')\n",
    "\n",
    "ax = fig.add_subplot(1, 3, 2)\n",
    "ax.imshow(np.reshape(mask_batch[0]*255, (SIZE, SIZE)), cmap='gray')\n",
    "\n",
    "ax = fig.add_subplot(1, 3, 3)\n",
    "ax.imshow(np.reshape(pred[0]*255, (SIZE, SIZE)), cmap=\"gray\")"
   ]
  },
  {
   "cell_type": "code",
   "execution_count": 24,
   "metadata": {},
   "outputs": [
    {
     "data": {
      "text/plain": [
       "<matplotlib.image.AxesImage at 0x1482db400>"
      ]
     },
     "execution_count": 24,
     "metadata": {},
     "output_type": "execute_result"
    },
    {
     "data": {
      "image/png": "[encoded data removed]",
      "text/plain": [
       "<Figure size 432x288 with 2 Axes>"
      ]
     },
     "metadata": {
      "needs_background": "light"
     },
     "output_type": "display_data"
    }
   ],
   "source": [
    "fig = plt.figure()\n",
    "fig.subplots_adjust(hspace=0.4, wspace=0.4)\n",
    "\n",
    "ax = fig.add_subplot(1, 2, 1)\n",
    "ax.imshow(np.reshape(mask_batch[1]*255, (SIZE, SIZE)), cmap=\"gray\")\n",
    "\n",
    "ax = fig.add_subplot(1, 2, 2)\n",
    "ax.imshow(np.reshape(pred[1]*255, (SIZE, SIZE)), cmap=\"gray\")"
   ]
  },
  {
   "cell_type": "code",
   "execution_count": null,
   "metadata": {},
   "outputs": [],
   "source": []
  }
 ],
 "metadata": {
  "kernelspec": {
   "display_name": "Python 3",
   "language": "python",
   "name": "python3"
  },
  "language_info": {
   "codemirror_mode": {
    "name": "ipython",
    "version": 3
   },
   "file_extension": ".py",
   "mimetype": "text/x-python",
   "name": "python",
   "nbconvert_exporter": "python",
   "pygments_lexer": "ipython3",
   "version": "3.7.3"
  }
 },
 "nbformat": 4,
 "nbformat_minor": 2
}
