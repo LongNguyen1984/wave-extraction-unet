{
 "cells": [
  {
   "cell_type": "markdown",
   "metadata": {},
   "source": [
    "# Image Augmentation"
   ]
  },
  {
   "cell_type": "code",
   "execution_count": 1,
   "metadata": {},
   "outputs": [],
   "source": [
    "import cv2\n",
    "import random"
   ]
  },
  {
   "cell_type": "code",
   "execution_count": 2,
   "metadata": {},
   "outputs": [],
   "source": [
    "# Image augmentation\n",
    "def data_gen(img_folder, mask_folder, batch_size):\n",
    "    c = 0\n",
    "    n = os.listdir(img_folder) #List of training images\n",
    "    random.shuffle(n)\n",
    "\n",
    "    while (True):\n",
    "        img = np.zeros((batch_size, 256, 256, 1)).astype('float')\n",
    "        mask = np.zeros((batch_size, 256, 256, 1)).astype('float')\n",
    "\n",
    "        for i in range(c, c+batch_size): #initially from 0 to 16, c = 0. \n",
    "\n",
    "            train_img = cv2.imread(img_folder+'/'+n[i], cv2.IMREAD_GRAYSCALE)/255.\n",
    "            train_img = cv2.resize(train_img, (256, 256))# Read an image from folder and resize\n",
    "            train_img = train_img.reshape(256, 256, 1)\n",
    "            \n",
    "            img[i-c] = train_img #add to array - img[0], img[1], and so on.\n",
    "\n",
    "            train_mask = cv2.imread(mask_folder+'/'+n[i], cv2.IMREAD_GRAYSCALE)/255.\n",
    "            train_mask = cv2.resize(train_mask, (256, 256))\n",
    "            train_mask = train_mask.reshape(256, 256, 1) # Add extra dimension for parity with train_img size [512 * 512 * 3]\n",
    "\n",
    "            mask[i-c] = train_mask\n",
    "\n",
    "        c+=batch_size\n",
    "        if(c+batch_size>=len(os.listdir(img_folder))):\n",
    "            c=0\n",
    "            random.shuffle(n)\n",
    "          \n",
    "        yield img, mask\n",
    "\n",
    "\n",
    "train_frame_path = 'train_frames/train'\n",
    "train_mask_path = 'train_masks/train'\n",
    "\n",
    "val_frame_path = 'val_frames/val'\n",
    "val_mask_path = 'val_masks/val'\n",
    "\n",
    "# Create generator objects\n",
    "train_gen = data_gen(train_frame_path,train_mask_path, batch_size = 4)\n",
    "val_gen = data_gen(val_frame_path,val_mask_path, batch_size = 4)\n"
   ]
  },
  {
   "cell_type": "markdown",
   "metadata": {},
   "source": [
    "# Training"
   ]
  },
  {
   "cell_type": "code",
   "execution_count": 3,
   "metadata": {},
   "outputs": [
    {
     "name": "stderr",
     "output_type": "stream",
     "text": [
      "Using TensorFlow backend.\n"
     ]
    }
   ],
   "source": [
    "# Training\n",
    "from keras.callbacks import ModelCheckpoint\n",
    "from keras.callbacks import CSVLogger\n",
    "from keras.callbacks import EarlyStopping\n",
    "from keras.optimizers import Adam\n",
    "import numpy as np\n",
    "\n",
    "import os\n",
    "import model"
   ]
  },
  {
   "cell_type": "code",
   "execution_count": 4,
   "metadata": {},
   "outputs": [
    {
     "name": "stdout",
     "output_type": "stream",
     "text": [
      "WARNING:tensorflow:From /anaconda3/lib/python3.7/site-packages/tensorflow/python/framework/op_def_library.py:263: colocate_with (from tensorflow.python.framework.ops) is deprecated and will be removed in a future version.\n",
      "Instructions for updating:\n",
      "Colocations handled automatically by placer.\n",
      "WARNING:tensorflow:From /anaconda3/lib/python3.7/site-packages/keras/backend/tensorflow_backend.py:3445: calling dropout (from tensorflow.python.ops.nn_ops) with keep_prob is deprecated and will be removed in a future version.\n",
      "Instructions for updating:\n",
      "Please use `rate` instead of `keep_prob`. Rate should be set to `rate = 1 - keep_prob`.\n"
     ]
    }
   ],
   "source": [
    "m = model.unet()"
   ]
  },
  {
   "cell_type": "code",
   "execution_count": 5,
   "metadata": {},
   "outputs": [],
   "source": [
    "batch_size = 4\n",
    "NO_OF_TRAINING_IMAGES = len(os.listdir('train_frames/train/'))\n",
    "NO_OF_VAL_IMAGES = len(os.listdir('val_frames/val/'))\n",
    "\n",
    "NO_OF_EPOCHS = 30\n",
    "\n",
    "BATCH_SIZE = batch_size\n",
    "\n",
    "weights_path = 'weights/weights.h5'\n",
    "\n",
    "opt = Adam(lr=1E-5, beta_1=0.9, beta_2=0.999, epsilon=1e-08)\n",
    "\n",
    "m.compile(loss='mean_squared_error',\n",
    "              optimizer=opt,\n",
    "              metrics=['accuracy'])\n",
    "\n",
    "checkpoint = ModelCheckpoint(filepath=weights_path, monitor='val_loss', \n",
    "                             verbose=1, save_best_only=True, save_weights_only=True)\n",
    "\n",
    "csv_logger = CSVLogger('./log.out', append=True, separator=';')\n",
    "\n",
    "earlystopping = EarlyStopping(monitor = 'val_loss', verbose = 1,\n",
    "                              min_delta = 1e-4, patience = 2, mode = 'auto')\n",
    "\n",
    "callbacks_list = [checkpoint, csv_logger, earlystopping]\n"
   ]
  },
  {
   "cell_type": "code",
   "execution_count": 6,
   "metadata": {},
   "outputs": [
    {
     "name": "stdout",
     "output_type": "stream",
     "text": [
      "WARNING:tensorflow:From /anaconda3/lib/python3.7/site-packages/tensorflow/python/ops/math_ops.py:3066: to_int32 (from tensorflow.python.ops.math_ops) is deprecated and will be removed in a future version.\n",
      "Instructions for updating:\n",
      "Use tf.cast instead.\n",
      "Epoch 1/30\n",
      "12/12 [==============================] - 247s 21s/step - loss: 0.0994 - acc: 0.9837 - val_loss: 0.0310 - val_acc: 0.9922\n",
      "\n",
      "Epoch 00001: val_loss improved from inf to 0.03103, saving model to weights/weights.h5\n",
      "Epoch 2/30\n",
      "12/12 [==============================] - 240s 20s/step - loss: 0.0160 - acc: 0.9925 - val_loss: 0.0130 - val_acc: 0.9919\n",
      "\n",
      "Epoch 00002: val_loss improved from 0.03103 to 0.01296, saving model to weights/weights.h5\n",
      "Epoch 3/30\n",
      "12/12 [==============================] - 240s 20s/step - loss: 0.0082 - acc: 0.9925 - val_loss: 0.0085 - val_acc: 0.9919\n",
      "\n",
      "Epoch 00003: val_loss improved from 0.01296 to 0.00854, saving model to weights/weights.h5\n",
      "Epoch 4/30\n",
      "12/12 [==============================] - 249s 21s/step - loss: 0.0067 - acc: 0.9926 - val_loss: 0.0068 - val_acc: 0.9922\n",
      "\n",
      "Epoch 00004: val_loss improved from 0.00854 to 0.00676, saving model to weights/weights.h5\n",
      "Epoch 5/30\n",
      "12/12 [==============================] - 243s 20s/step - loss: 0.0059 - acc: 0.9925 - val_loss: 0.0059 - val_acc: 0.9923\n",
      "\n",
      "Epoch 00005: val_loss improved from 0.00676 to 0.00591, saving model to weights/weights.h5\n",
      "Epoch 6/30\n",
      "12/12 [==============================] - 245s 20s/step - loss: 0.0056 - acc: 0.9925 - val_loss: 0.0056 - val_acc: 0.9919\n",
      "\n",
      "Epoch 00006: val_loss improved from 0.00591 to 0.00564, saving model to weights/weights.h5\n",
      "Epoch 7/30\n",
      "12/12 [==============================] - 249s 21s/step - loss: 0.0050 - acc: 0.9927 - val_loss: 0.0054 - val_acc: 0.9919\n",
      "\n",
      "Epoch 00007: val_loss improved from 0.00564 to 0.00536, saving model to weights/weights.h5\n",
      "Epoch 8/30\n",
      "12/12 [==============================] - 254s 21s/step - loss: 0.0050 - acc: 0.9926 - val_loss: 0.0049 - val_acc: 0.9923\n",
      "\n",
      "Epoch 00008: val_loss improved from 0.00536 to 0.00493, saving model to weights/weights.h5\n",
      "Epoch 9/30\n",
      "12/12 [==============================] - 258s 21s/step - loss: 0.0048 - acc: 0.9926 - val_loss: 0.0049 - val_acc: 0.9920\n",
      "\n",
      "Epoch 00009: val_loss improved from 0.00493 to 0.00492, saving model to weights/weights.h5\n",
      "Epoch 10/30\n",
      "12/12 [==============================] - 260s 22s/step - loss: 0.0046 - acc: 0.9926 - val_loss: 0.0043 - val_acc: 0.9922\n",
      "\n",
      "Epoch 00010: val_loss improved from 0.00492 to 0.00427, saving model to weights/weights.h5\n",
      "Epoch 11/30\n",
      "12/12 [==============================] - 259s 22s/step - loss: 0.0045 - acc: 0.9925 - val_loss: 0.0046 - val_acc: 0.9921\n",
      "\n",
      "Epoch 00011: val_loss did not improve from 0.00427\n",
      "Epoch 12/30\n",
      "12/12 [==============================] - 259s 22s/step - loss: 0.0043 - acc: 0.9925 - val_loss: 0.0046 - val_acc: 0.9920\n",
      "\n",
      "Epoch 00012: val_loss did not improve from 0.00427\n",
      "Epoch 00012: early stopping\n"
     ]
    }
   ],
   "source": [
    "results = m.fit_generator(train_gen, epochs=NO_OF_EPOCHS, \n",
    "                          steps_per_epoch = (NO_OF_TRAINING_IMAGES//BATCH_SIZE),\n",
    "                          validation_data=val_gen, \n",
    "                          validation_steps=(NO_OF_VAL_IMAGES//BATCH_SIZE), \n",
    "                          callbacks=callbacks_list)\n",
    "m.save('Model.h5')\n"
   ]
  },
  {
   "cell_type": "markdown",
   "metadata": {},
   "source": [
    "# Evaluate model"
   ]
  },
  {
   "cell_type": "code",
   "execution_count": null,
   "metadata": {},
   "outputs": [],
   "source": []
  }
 ],
 "metadata": {
  "kernelspec": {
   "display_name": "Python 3",
   "language": "python",
   "name": "python3"
  },
  "language_info": {
   "codemirror_mode": {
    "name": "ipython",
    "version": 3
   },
   "file_extension": ".py",
   "mimetype": "text/x-python",
   "name": "python",
   "nbconvert_exporter": "python",
   "pygments_lexer": "ipython3",
   "version": "3.7.3"
  }
 },
 "nbformat": 4,
 "nbformat_minor": 2
}
